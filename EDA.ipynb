{
 "cells": [
  {
   "cell_type": "code",
   "execution_count": 1,
   "metadata": {},
   "outputs": [],
   "source": [
    "import pandas as pd\n",
    "import streamlit as st\n",
    "import altair as alt\n",
    "import plotly.express as py\n",
    "import numpy as np\n",
    "import requests"
   ]
  },
  {
   "cell_type": "code",
   "execution_count": 2,
   "metadata": {},
   "outputs": [],
   "source": [
    "\n",
    "base_url = \"https://raw.githubusercontent.com/\"\n",
    "url  = base_url + \"fbahat/Usvehicledata/main/vehicles_us.csv\"\n",
    "vehicles = pd.read_csv(url)"
   ]
  },
  {
   "cell_type": "markdown",
   "metadata": {},
   "source": [
    "There is no duplicated row."
   ]
  },
  {
   "cell_type": "code",
   "execution_count": 3,
   "metadata": {},
   "outputs": [],
   "source": [
    "\n",
    "#Data Organiziting\n",
    "\n",
    "vehicles['is_4wd'] = vehicles['is_4wd'].fillna(0)\n",
    "vehicles['paint_color'] = vehicles['paint_color'].fillna('Unknown')\n",
    "vehicles['cylinders'] = vehicles[['cylinders', 'type']].groupby('type').transform(lambda x:x.fillna(x.median()))\n",
    "missing_values = vehicles.isnull().any()"
   ]
  },
  {
   "cell_type": "code",
   "execution_count": 4,
   "metadata": {},
   "outputs": [],
   "source": [
    "# Function to create histogram\n",
    "def create_histogram(data, column, title):\n",
    "    histogram = py.histogram(data, x=column, nbins=20, title=title)\n",
    "    st.plotly_chart(histogram)\n",
    "\n",
    "def create_scatterplot(data, x_column, y_column, title):\n",
    "    scatterplot = py.scatter(data, x=x_column, y=y_column, title=title)\n",
    "    st.plotly_chart(scatterplot)\n"
   ]
  },
  {
   "cell_type": "code",
   "execution_count": 5,
   "metadata": {},
   "outputs": [
    {
     "name": "stderr",
     "output_type": "stream",
     "text": [
      "2024-03-11 17:58:03.010 \n",
      "  \u001b[33m\u001b[1mWarning:\u001b[0m to view this Streamlit app on a browser, run it with the following\n",
      "  command:\n",
      "\n",
      "    streamlit run /opt/anaconda3/lib/python3.11/site-packages/ipykernel_launcher.py [ARGUMENTS]\n"
     ]
    }
   ],
   "source": [
    "st.header('US CAR PRICE ANALYSIS')\n",
    "show_data = st.checkbox('Show Dataset')\n"
   ]
  },
  {
   "cell_type": "code",
   "execution_count": 6,
   "metadata": {},
   "outputs": [],
   "source": [
    "if show_data:\n",
    "    st.write(vehicles)\n",
    "# Histogram of price\n",
    "st.subheader(\"Histograms\")\n",
    "create_histogram(vehicles, 'price', 'Price Distribution')\n",
    "create_histogram(vehicles, 'odometer', 'Odometer Distribution')"
   ]
  },
  {
   "cell_type": "code",
   "execution_count": 7,
   "metadata": {},
   "outputs": [],
   "source": [
    "# Histogram of odometer\n",
    "st.subheader(\"Scatterplots\")\n",
    "create_scatterplot(vehicles, 'price', 'odometer', 'Price vs Odometer')\n",
    "create_scatterplot(vehicles, 'price', 'model_year', 'Price vs Model Year')"
   ]
  },
  {
   "cell_type": "code",
   "execution_count": 8,
   "metadata": {},
   "outputs": [],
   "source": [
    "# Scatterplot of price vs odometer\n",
    "price_vs_odometer_scatter = py.scatter(vehicles, x='price', y='odometer', title='Price vs Odometer')\n",
    "show_price_vs_odometer_scatter = st.checkbox('Show Price vs Odometer Scatterplot')\n",
    "if show_price_vs_odometer_scatter:\n",
    "    st.plotly_chart(price_vs_odometer_scatter)"
   ]
  },
  {
   "cell_type": "code",
   "execution_count": 9,
   "metadata": {},
   "outputs": [],
   "source": [
    "# Scatterplot of price vs model_year\n",
    "price_vs_model_year_scatter = py.scatter(vehicles, x='price', y='model_year', title='Price vs Model Year')\n",
    "show_price_vs_model_year_scatter = st.checkbox('Show Price vs Model Year Scatterplot')\n",
    "if show_price_vs_model_year_scatter:\n",
    "    st.plotly_chart(price_vs_model_year_scatter)\n",
    "\n",
    "# Vehicle condition by model year\n",
    "vehicle_types = py.scatter(vehicles, x='condition', y='model_year', title='Price vs Model Year')\n",
    "vehicle_types_show = st.checkbox('Show Condition vs Model Year Scatterplot')\n",
    "if vehicle_types_show:\n",
    "    st.plotly_chart(vehicle_types)"
   ]
  },
  {
   "cell_type": "code",
   "execution_count": 10,
   "metadata": {},
   "outputs": [],
   "source": [
    "# Check for missing values in 'model' column\n",
    "if vehicles['model'].isnull().any():\n",
    "    st.error(\"There are missing values in the 'model' column. Please clean the data and try again.\")\n",
    "else:\n",
    "    # Check if 'model' column contains strings\n",
    "    if not vehicles['model'].apply(lambda x: isinstance(x, str)).all():\n",
    "        st.error(\"The 'model' column contains non-string values. Please clean the data and try again.\")\n",
    "    else:\n",
    "        # Split 'model' column into 'manufacturer' and 'model'\n",
    "        vehicles[['manufacturer', 'model']] = vehicles['model'].str.split(n=1, expand=True)\n",
    "\n",
    "        # Group by manufacturer and get unique vehicle types\n",
    "        vehicle_types_by_manufacturer = vehicles.groupby(['manufacturer', 'model'])['type'].unique().reset_index()\n",
    "\n",
    "        # Plot the chart\n",
    "        st.header(\"Vehicle Types by Manufacturer\")\n",
    "        fig = py.bar(vehicle_types_by_manufacturer, x='manufacturer',\n",
    "                    y=vehicle_types_by_manufacturer['type'].apply(lambda x: len(x)),\n",
    "                    color='model',\n",
    "                    title=\"Vehicle Types by Manufacturer\",\n",
    "                    labels={'manufacturer':'Manufacturer', 'type':'Number of Vehicle Types', 'model': 'Model'})\n",
    "        st.plotly_chart(fig)\n",
    "# Check for missing values in 'model' and 'type' columns\n",
    "missing_values = vehicles[['model', 'type']].isnull().any()\n",
    "if missing_values.any():\n",
    "    st.error(\"There are missing values in the dataset. Please clean the data and try again.\")\n",
    "else:\n",
    "    # Group by manufacturer and get unique vehicle types\n",
    "    vehicle_types_by_manufacturer = vehicles.groupby('model')['type'].unique().reset_index()\n",
    "\n",
    "    # Plot the chart\n",
    "    st.header(\"Comparison of Vehicle Brands with Their Types\")\n",
    "    fig = py.bar(vehicle_types_by_manufacturer, x='model',\n",
    "                 y=vehicle_types_by_manufacturer['type'].apply(lambda x: len(x)),\n",
    "                 title=\"Comparison of Vehicle Brands with Their Types\",\n",
    "                 labels={'model': 'Manufacturer', 'type': 'Number of Vehicle Types'})\n",
    "    st.plotly_chart(fig)"
   ]
  },
  {
   "cell_type": "code",
   "execution_count": 11,
   "metadata": {},
   "outputs": [],
   "source": [
    "# Check for missing values in 'model' and 'type' columns\n",
    "missing_values = vehicles[['model', 'type']].isnull().any()\n",
    "if missing_values.any():\n",
    "    st.error(\"There are missing values in the dataset. Please clean the data and try again.\")\n",
    "else:\n",
    "    # Group by manufacturer and get unique vehicle types\n",
    "    vehicle_types_by_manufacturer = vehicles.groupby('model')['type'].unique().reset_index()\n",
    "\n",
    "    # Create Altair chart\n",
    "    st.header(\"Comparison of Vehicle Brands with Their Types\")\n",
    "    chart = alt.Chart(vehicle_types_by_manufacturer).mark_bar().encode(\n",
    "        x=alt.X('model:N', title='Manufacturer'),\n",
    "        y=alt.Y('count(type):Q', title='Number of Vehicle Types'),\n",
    "        color=alt.Color('model:N', legend=None),\n",
    "        tooltip=['model:N', 'count(type):Q']\n",
    "    ).properties(\n",
    "        width=600,\n",
    "        height=400,\n",
    "        title=\"Comparison of Vehicle Brands with Their Types\"\n",
    "    ).interactive()\n",
    "\n",
    "    st.altair_chart(chart, use_container_width=True)\n",
    "# Check for missing values in 'model' and 'fuel' columns\n",
    "missing_values = vehicles[['model', 'fuel']].isnull().any()\n",
    "if missing_values.any():\n",
    "    st.error(\"There are missing values in the dataset. Please clean the data and try again.\")\n",
    "else:\n",
    "    # Group by manufacturer and get count of each fuel type\n",
    "    fuel_count_by_manufacturer = vehicles.groupby('model')['fuel'].value_counts().reset_index(name='count')\n",
    "\n",
    "    # Create Altair chart\n",
    "    st.header(\"Comparison of Vehicle Fuel Types by Manufacturer\")\n",
    "    chart = alt.Chart(fuel_count_by_manufacturer).mark_bar().encode(\n",
    "        x=alt.X('model:N', title='Manufacturer'),\n",
    "        y=alt.Y('count:Q', title='Count of Vehicles'),\n",
    "        color=alt.Color('fuel:N', legend=alt.Legend(title=\"Fuel Type\")),\n",
    "        tooltip=['model:N', 'fuel:N', 'count:Q']\n",
    "    ).properties(\n",
    "        width=600,\n",
    "        height=400,\n",
    "        title=\"Comparison of Vehicle Fuel Types by Manufacturer\"\n",
    "    ).interactive()\n",
    "\n",
    "    st.altair_chart(chart, use_container_width=True)\n"
   ]
  }
 ],
 "metadata": {
  "kernelspec": {
   "display_name": "Python 3",
   "language": "python",
   "name": "python3"
  },
  "language_info": {
   "codemirror_mode": {
    "name": "ipython",
    "version": 3
   },
   "file_extension": ".py",
   "mimetype": "text/x-python",
   "name": "python",
   "nbconvert_exporter": "python",
   "pygments_lexer": "ipython3",
   "version": "3.11.7"
  }
 },
 "nbformat": 4,
 "nbformat_minor": 2
}
